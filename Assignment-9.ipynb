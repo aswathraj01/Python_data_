{
 "cells": [
  {
   "cell_type": "markdown",
   "id": "d3455f5b",
   "metadata": {},
   "source": [
    "1.create a line chart to denote the mean price per item.  (plot for top 10 items)"
   ]
  },
  {
   "cell_type": "markdown",
   "id": "07e6cae5",
   "metadata": {},
   "source": [
    "2.What is the mean sales for each outlet type? (both bar chart, pie chart )"
   ]
  },
  {
   "cell_type": "markdown",
   "id": "046853ae",
   "metadata": {},
   "source": [
    "3.Histogram of Item_MRP"
   ]
  },
  {
   "cell_type": "markdown",
   "id": "5965a397",
   "metadata": {},
   "source": [
    "4.Box plot of item weight"
   ]
  },
  {
   "cell_type": "markdown",
   "id": "f52375f6",
   "metadata": {},
   "source": [
    "5.Relative distribution of item weight and its visibility(scatter plot)"
   ]
  },
  {
   "cell_type": "markdown",
   "id": "8c20e6a1",
   "metadata": {},
   "source": [
    "6.Violin plot for Item_Outlet_Sales"
   ]
  },
  {
   "cell_type": "markdown",
   "id": "0683b76c",
   "metadata": {},
   "source": [
    "7.Scatter plot using seaborn and add hue"
   ]
  },
  {
   "cell_type": "markdown",
   "id": "f6051555",
   "metadata": {},
   "source": [
    "8.Heat map for selected numeric columns"
   ]
  }
 ],
 "metadata": {
  "language_info": {
   "name": "python"
  }
 },
 "nbformat": 4,
 "nbformat_minor": 5
}
