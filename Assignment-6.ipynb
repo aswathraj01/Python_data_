{
 "cells": [
  {
   "cell_type": "markdown",
   "id": "b5fd6e46",
   "metadata": {},
   "source": [
    "1.Create a class Rectangle with attributes length and width. Write methods to "
   ]
  },
  {
   "cell_type": "markdown",
   "id": "2b406966",
   "metadata": {},
   "source": [
    "2.calculate area and perimeter.Create a class Calculator with methods add(), subtract(), multiply(), and divide()."
   ]
  },
  {
   "cell_type": "markdown",
   "id": "7f5fe167",
   "metadata": {},
   "source": [
    "3.Create a class Circle with attribute radius. Write methods to calculate area and circumference."
   ]
  },
  {
   "cell_type": "markdown",
   "id": "ffedc32f",
   "metadata": {},
   "source": [
    "4.create a class Employee with attributes name and salary. Add a method display() to show details."
   ]
  },
  {
   "cell_type": "markdown",
   "id": "d7d5c26c",
   "metadata": {},
   "source": [
    "5. Create a class BankAccount with attributes account_number and balance. Add methods:\n",
    "deposit(amount)\n",
    "withdraw(amount)\n",
    "check_balance()"
   ]
  },
  {
   "cell_type": "markdown",
   "id": "d42830b2",
   "metadata": {},
   "source": [
    "6.Create a class Temperature with methods:\n",
    "\n",
    "celsius_to_fahrenheit(c)\n",
    "\n",
    "fahrenheit_to_celsius(f)"
   ]
  },
  {
   "cell_type": "markdown",
   "id": "f9f2e495",
   "metadata": {},
   "source": [
    "7. Shopping cart\n",
    "Create a class Cart that allows:\n",
    "add_item(item)\n",
    "remove_item(item)\n",
    "view_cart()\n"
   ]
  }
 ],
 "metadata": {
  "language_info": {
   "name": "python"
  }
 },
 "nbformat": 4,
 "nbformat_minor": 5
}
