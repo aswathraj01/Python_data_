{
 "cells": [
  {
   "cell_type": "markdown",
   "id": "7bb2d28b",
   "metadata": {},
   "source": [
    "1.Create 1D,2D,3D array . check it’s shape and dimension"
   ]
  },
  {
   "cell_type": "markdown",
   "id": "c169c157",
   "metadata": {},
   "source": [
    "2.Create a NumPy array of numbers from 10 to 50 (inclusive) with a step of 5."
   ]
  },
  {
   "cell_type": "markdown",
   "id": "f64715cc",
   "metadata": {},
   "source": [
    "3.Generate a 3×3 matrix of random integers between 1 and 20."
   ]
  },
  {
   "cell_type": "markdown",
   "id": "9a49bcde",
   "metadata": {},
   "source": [
    "4.From the array:\n",
    "Extract the second row.\n",
    "Extract the first column.\n",
    "Extract the subarray containing rows 1–2 and columns 2–4.\n",
    "Replace all even numbers in arr with -1"
   ]
  },
  {
   "cell_type": "markdown",
   "id": "463c221d",
   "metadata": {},
   "source": [
    "5.Given:\n",
    "a = np.array([1, 2, 3])\n",
    "b = np.array([4, 5, 6])\n",
    "Perform element-wise addition, subtraction, multiplication, and division."
   ]
  },
  {
   "cell_type": "markdown",
   "id": "35470ce4",
   "metadata": {},
   "source": [
    "6.Create a 1D array of numbers from 1 to 12. Reshape it into:  3×4 matrix"
   ]
  }
 ],
 "metadata": {
  "language_info": {
   "name": "python"
  }
 },
 "nbformat": 4,
 "nbformat_minor": 5
}
