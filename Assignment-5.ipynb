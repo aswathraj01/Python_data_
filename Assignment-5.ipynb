{
 "cells": [
  {
   "cell_type": "markdown",
   "id": "a882d71f",
   "metadata": {},
   "source": [
    "1.Write a function to check whether a number is an Armstrong number."
   ]
  },
  {
   "cell_type": "markdown",
   "id": "d7556641",
   "metadata": {},
   "source": [
    "2. Write a function to count how many times a character appears in a string"
   ]
  },
  {
   "cell_type": "markdown",
   "id": "ac28abbd",
   "metadata": {},
   "source": [
    "3.Write a function to find all prime numbers between two given numbers."
   ]
  },
  {
   "cell_type": "markdown",
   "id": "72d5ba5c",
   "metadata": {},
   "source": [
    "4.Write a function that returns the GCD (Greatest Common Divisor) of two numbers."
   ]
  },
  {
   "cell_type": "markdown",
   "id": "800b3234",
   "metadata": {},
   "source": [
    "5.Write a function that returns the LCM (Least Common Multiple) of two numbers."
   ]
  },
  {
   "cell_type": "markdown",
   "id": "0b68d5d0",
   "metadata": {},
   "source": [
    "6.Write a function that returns the binary representation of a number."
   ]
  },
  {
   "cell_type": "markdown",
   "id": "692b0845",
   "metadata": {},
   "source": [
    "7.Write a function to print a pattern like a triangle or pyramid of stars (*).Write a function that returns all substrings of a given string."
   ]
  },
  {
   "cell_type": "markdown",
   "id": "82afbdc1",
   "metadata": {},
   "source": [
    "8.Write a function to find if a number is a perfect number (sum of factors equals the number)."
   ]
  },
  {
   "cell_type": "markdown",
   "id": "e0e6f385",
   "metadata": {},
   "source": [
    "9.Write a function to print the frequency of each digit in a number."
   ]
  },
  {
   "cell_type": "markdown",
   "id": "3503b1a3",
   "metadata": {},
   "source": [
    "10.Write a function that reverses the words in a sentence."
   ]
  },
  {
   "cell_type": "markdown",
   "id": "4e21df0a",
   "metadata": {},
   "source": [
    "11.Write a function that finds the second largest number in a list."
   ]
  }
 ],
 "metadata": {
  "language_info": {
   "name": "python"
  }
 },
 "nbformat": 4,
 "nbformat_minor": 5
}
