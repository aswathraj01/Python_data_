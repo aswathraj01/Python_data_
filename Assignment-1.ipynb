{
 "cells": [
  {
   "cell_type": "markdown",
   "id": "d35acafb",
   "metadata": {},
   "source": [
    "Take values of length and breadth of a rectangle from user and check if it is square or not."
   ]
  },
  {
   "cell_type": "code",
   "execution_count": 1,
   "id": "5436bb5a",
   "metadata": {},
   "outputs": [
    {
     "name": "stdout",
     "output_type": "stream",
     "text": [
      "It is a square.\n"
     ]
    }
   ],
   "source": [
    "length = int(input(\"Enter the length of the rectangle: \"))\n",
    "breadth = int(input(\"Enter the breadth of the rectangle: \"))\n",
    "\n",
    "if length == breadth:\n",
    "    print(\"It is a square.\")\n",
    "else:\n",
    "    print(\"It is not a square.\")"
   ]
  },
  {
   "cell_type": "markdown",
   "id": "c9fdce28",
   "metadata": {},
   "source": [
    " A company decided to give bonus of 5% to employee if his/her year of service is more than 5 years.Ask user for their salary and year of service and print the net bonus amount."
   ]
  },
  {
   "cell_type": "code",
   "execution_count": 2,
   "id": "cb6b81c0",
   "metadata": {},
   "outputs": [
    {
     "name": "stdout",
     "output_type": "stream",
     "text": [
      "Net bonus amount: 250.0\n"
     ]
    }
   ],
   "source": [
    "salary = int(input(\"Enter your salary: \"))\n",
    "years_of_service = int(input(\"Enter your years of service: \"))\n",
    "\n",
    "if years_of_service > 5:\n",
    "    bonus = salary * 0.05\n",
    "    print(f\"Net bonus amount: {bonus}\")\n",
    "else:\n",
    "    print(\"No bonus awarded.\")"
   ]
  },
  {
   "cell_type": "markdown",
   "id": "d0bf6147",
   "metadata": {},
   "source": [
    "Take a user input and check if it is even or not"
   ]
  },
  {
   "cell_type": "code",
   "execution_count": 3,
   "id": "d98f4211",
   "metadata": {},
   "outputs": [
    {
     "name": "stdout",
     "output_type": "stream",
     "text": [
      "The number is odd.\n"
     ]
    }
   ],
   "source": [
    "number=int(input(\"Enter a number: \"))\n",
    "if number%2==0:\n",
    "    print(\"The number is even.\")\n",
    "else:\n",
    "    print(\"The number is odd.\")"
   ]
  },
  {
   "cell_type": "markdown",
   "id": "83b871b4",
   "metadata": {},
   "source": [
    "Take two int values from user and print greatest among them.(use if elif else)"
   ]
  },
  {
   "cell_type": "code",
   "execution_count": 5,
   "id": "5cbe37fd",
   "metadata": {},
   "outputs": [
    {
     "name": "stdout",
     "output_type": "stream",
     "text": [
      "The second number  5  is greater.\n"
     ]
    }
   ],
   "source": [
    "first_number = int(input(\"Enter the first number: \"))\n",
    "second_number = int(input(\"Enter the second number: \"))\n",
    "\n",
    "if first_number > second_number:\n",
    "    print(\"The first number \",first_number,\" is greater.\")\n",
    "else:\n",
    "    print(\"The second number \",second_number,\" is greater.\")"
   ]
  },
  {
   "cell_type": "markdown",
   "id": "86b40f8e",
   "metadata": {},
   "source": [
    "5.Example A school has following rules for grading system:\n",
    "a. Below 25 - F\n",
    "b. 25 to 45 - E\n",
    "c. 45 to 50 - D\n",
    "d. 50 to 60 - C\n",
    "e. 60 to 80 - B\n",
    "f. Above 80 - A\n",
    "Ask user to enter marks and print the corresponding grade."
   ]
  },
  {
   "cell_type": "code",
   "execution_count": 6,
   "id": "b5a19baf",
   "metadata": {},
   "outputs": [
    {
     "name": "stdout",
     "output_type": "stream",
     "text": [
      "B\n"
     ]
    }
   ],
   "source": [
    "mark=int(input(\"Enter your mark: \"))\n",
    "if mark>80:\n",
    "    print(\"A\")\n",
    "elif mark>60 and mark<=80:\n",
    "    print(\"B\")\n",
    "elif mark>50 and mark<=60:\n",
    "    print(\"C\")\n",
    "elif mark>45 and mark<=50:\n",
    "    print(\"D\")\n",
    "elif mark>25 and mark<=45:\n",
    "    print(\"E\")\n",
    "else:\n",
    "    print(\"F\")"
   ]
  },
  {
   "cell_type": "markdown",
   "id": "ba775d21",
   "metadata": {},
   "source": [
    "Take input from user of ages of 3 people and check who is oldest"
   ]
  },
  {
   "cell_type": "code",
   "execution_count": 7,
   "id": "dd273b6b",
   "metadata": {},
   "outputs": [
    {
     "name": "stdout",
     "output_type": "stream",
     "text": [
      "The third person is the oldest.\n"
     ]
    }
   ],
   "source": [
    "age1 = int(input(\"Enter the age of the first person: \"))\n",
    "age2 = int(input(\"Enter the age of the second person: \"))   \n",
    "age3 = int(input(\"Enter the age of the third person: \"))\n",
    "\n",
    "if age1 > age2 and age1 > age3:\n",
    "    print(\"The first person is the oldest.\")\n",
    "elif age2 > age1 and age2 > age3:\n",
    "    print(\"The second person is the oldest.\")\n",
    "else:\n",
    "    print(\"The third person is the oldest.\")\n"
   ]
  },
  {
   "cell_type": "markdown",
   "id": "6eafa086",
   "metadata": {},
   "source": [
    "A student will not be allowed to sit in exam if his/her attendence is less than 75%.\n",
    "Take following input from user\n",
    "Number of classes held\n",
    "Number of classes attended.\n",
    "And print percentage of class attended\n",
    "Is student is allowed to sit in exam or not.\n"
   ]
  },
  {
   "cell_type": "code",
   "execution_count": 8,
   "id": "f8e7dd96",
   "metadata": {},
   "outputs": [
    {
     "name": "stdout",
     "output_type": "stream",
     "text": [
      "You are not allowed to sit in the exam.\n"
     ]
    }
   ],
   "source": [
    "number_of_class_held = int(input(\"Enter the number of classes held: \"))\n",
    "number_of_class_attended = int(input(\"Enter the number of classes attended: \"))\n",
    "\n",
    "atten=(number_of_class_attended/number_of_class_held)*100\n",
    "\n",
    "if atten>=75:\n",
    "    print(\"You are allowed to sit in the exam.\")\n",
    "else:\n",
    "    print(\"You are not allowed to sit in the exam.\")\n"
   ]
  }
 ],
 "metadata": {
  "kernelspec": {
   "display_name": "Python 3",
   "language": "python",
   "name": "python3"
  },
  "language_info": {
   "codemirror_mode": {
    "name": "ipython",
    "version": 3
   },
   "file_extension": ".py",
   "mimetype": "text/x-python",
   "name": "python",
   "nbconvert_exporter": "python",
   "pygments_lexer": "ipython3",
   "version": "3.11.8"
  }
 },
 "nbformat": 4,
 "nbformat_minor": 5
}
