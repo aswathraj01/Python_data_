{
 "cells": [
  {
   "cell_type": "markdown",
   "id": "4bddac29",
   "metadata": {},
   "source": [
    "1.You are given a list that contains integers. You need to print the elements of the list with a space between them.\n",
    "Input: arr[] = [54, 43, 2, 1, 5]\n",
    "Output: 54 43 2 1 5\n",
    "Explanation: Just traverse and print the numbers.\n"
   ]
  },
  {
   "cell_type": "code",
   "execution_count": 4,
   "id": "d52e0f2c",
   "metadata": {},
   "outputs": [
    {
     "name": "stdout",
     "output_type": "stream",
     "text": [
      "54 43 2 1 5 "
     ]
    }
   ],
   "source": [
    "arr=[54, 43, 2, 1, 5]\n",
    "\n",
    "for i in range(len(arr)):\n",
    "    print(arr[i], end=\" \")"
   ]
  },
  {
   "cell_type": "markdown",
   "id": "da9e31dc",
   "metadata": {},
   "source": [
    "2.You are given a list that contains integers. You need to return the sum of the list.\n",
    "Input: arr = [54, 43, 2, 1, 5]\n",
    "Output: 105\n",
    "Explanation: Just sum it 54 + 43 + 2 + 1 + 5 = 105."
   ]
  },
  {
   "cell_type": "markdown",
   "id": "75749dd1",
   "metadata": {},
   "source": [
    "3.You are given three inputs a, b, c. You need to create a list and append a, b, c to the list and then return that list.\n",
    "\n",
    "Input: a = 1, b = 2, c = 3\n",
    "Output: 1 2 3\n",
    "Explanation: Just create a list and append 1 2 3 to it. Then return [1,2,3] list."
   ]
  },
  {
   "cell_type": "code",
   "execution_count": null,
   "id": "094c0e13",
   "metadata": {},
   "outputs": [],
   "source": []
  },
  {
   "cell_type": "markdown",
   "id": "6b052e1d",
   "metadata": {},
   "source": [
    "4. You are given a list arr that contains integers. You need to return average of the non negative integers.\n",
    "\n",
    "Input: arr = [-12, 8, -7, 6, 12, -9, 14]\n",
    "Output: avg = 10.0\n",
    "Explanation: The non negative numbers are 8 6 12 14. The sum is 8+6+12+14 = 40, Average = 40/4 = 10.0"
   ]
  },
  {
   "cell_type": "markdown",
   "id": "1e01df75",
   "metadata": {},
   "source": [
    "5. Given a number n, check if the number is perfect or not. A number is said to be perfect if sum of all its factors excluding the number itself is equal to the number.\n",
    "\n",
    "Examples \n",
    "Input: n = 6\n",
    "Output: true \n",
    "Explanation: Factors of 6 are 1, 2, 3 and 6. Excluding 6 their sum is 6 which is equal to n itself. So, it's a Perfect Number.\n",
    "\n",
    "Input: n = 10\n",
    "Output: false\n",
    "Explanation: Factors of 10 are 1, 2, 5 and 10. Excluding 10 their sum is 8 which is not equal to n itself. So, it's not a Perfect Number.\n",
    "\n",
    "Input: n = 15\n",
    "Output: false\n",
    "Explanation: Factors of 15 are 1, 3, 5, 15. Excluding 15 their sum is 9 which is not equal to n itself. So, it's not a Perfect Number.\n"
   ]
  },
  {
   "cell_type": "markdown",
   "id": "b61314ef",
   "metadata": {},
   "source": [
    "6. Create a nested dictionary and access it’s elements\n",
    "\n",
    "Functions \n",
    "1.Write a Python program to find the maximum from the given three numbers.\n",
    "2.Prime number\n",
    "3.Factorial\n",
    "4.Fibonacci\n",
    "5.Write a Python program to calculate the sum of all the numbers present in a list.\n",
    "6.Write a Python program to calculate the multiplication of all the numbers present in a list."
   ]
  },
  {
   "cell_type": "markdown",
   "id": "e4199e2e",
   "metadata": {},
   "source": [
    "7.Write a Python program that takes a string as an input and calculates the number of upper case and lower case letters present in the string"
   ]
  },
  {
   "cell_type": "markdown",
   "id": "f4e49895",
   "metadata": {},
   "source": [
    "8. Function to Find Maximum of 3 Numbers"
   ]
  },
  {
   "cell_type": "markdown",
   "id": "268e9679",
   "metadata": {},
   "source": [
    "9. Function to Check if a String is a Palindrome"
   ]
  },
  {
   "cell_type": "markdown",
   "id": "68542539",
   "metadata": {},
   "source": [
    "10.Write a function to print all factors of a number."
   ]
  }
 ],
 "metadata": {
  "kernelspec": {
   "display_name": "Python 3",
   "language": "python",
   "name": "python3"
  },
  "language_info": {
   "codemirror_mode": {
    "name": "ipython",
    "version": 3
   },
   "file_extension": ".py",
   "mimetype": "text/x-python",
   "name": "python",
   "nbconvert_exporter": "python",
   "pygments_lexer": "ipython3",
   "version": "3.11.8"
  }
 },
 "nbformat": 4,
 "nbformat_minor": 5
}
